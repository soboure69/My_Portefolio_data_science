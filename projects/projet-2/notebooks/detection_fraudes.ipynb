{
 "cells": [
  {"cell_type": "markdown", "metadata": {}, "source": ["# Détection de Fraudes\n","IsolationForest / One-Class SVM — pipeline minimal.\n"]}
 ],
 "metadata": {"kernelspec": {"display_name": "Python 3", "language": "python", "name": "python3"}, "language_info": {"name": "python"}},
 "nbformat": 4,
 "nbformat_minor": 5
}
