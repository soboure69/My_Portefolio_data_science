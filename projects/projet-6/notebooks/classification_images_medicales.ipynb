{
 "cells": [
  {"cell_type": "markdown", "metadata": {}, "source": ["# Classification d'Images Médicales\n","CNN minimal — squelette.\n"]}
 ],
 "metadata": {"kernelspec": {"display_name": "Python 3", "language": "python", "name": "python3"}, "language_info": {"name": "python"}},
 "nbformat": 4,
 "nbformat_minor": 5
}
