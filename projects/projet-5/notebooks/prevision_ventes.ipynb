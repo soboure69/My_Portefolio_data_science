{
 "cells": [
  {"cell_type": "markdown", "metadata": {}, "source": ["# Prévision de Ventes\n","Série temporelle factice + ARIMA — squelette.\n"]}
 ],
 "metadata": {"kernelspec": {"display_name": "Python 3", "language": "python", "name": "python3"}, "language_info": {"name": "python"}},
 "nbformat": 4,
 "nbformat_minor": 5
}
