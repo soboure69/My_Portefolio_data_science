{
 "cells": [
  {"cell_type": "markdown", "metadata": {}, "source": ["# Prédiction de Prix Immobilier\n","Ce notebook contient un pipeline minimal (EDA -> preprocessing -> modèle -> évaluation).\n"]}
 ],
 "metadata": {"kernelspec": {"display_name": "Python 3", "language": "python", "name": "python3"}, "language_info": {"name": "python"}},
 "nbformat": 4,
 "nbformat_minor": 5
}
