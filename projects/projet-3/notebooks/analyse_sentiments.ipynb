{
 "cells": [
  {"cell_type": "markdown", "metadata": {}, "source": ["# Analyse de Sentiments\n","Exemple minimal avec pipeline d'inférence et métriques.\n"]}
 ],
 "metadata": {"kernelspec": {"display_name": "Python 3", "language": "python", "name": "python3"}, "language_info": {"name": "python"}},
 "nbformat": 4,
 "nbformat_minor": 5
}
